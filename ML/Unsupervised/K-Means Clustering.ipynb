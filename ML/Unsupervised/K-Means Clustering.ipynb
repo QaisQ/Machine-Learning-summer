{
 "cells": [
  {
   "cell_type": "code",
   "execution_count": 43,
   "metadata": {},
   "outputs": [],
   "source": [
    "import numpy as np\n",
    "import pandas as pd\n",
    "from pandas import DataFrame\n",
    "\n",
    "import matplotlib.pyplot as plt\n",
    "from matplotlib import style\n",
    "style.use('ggplot')\n",
    "\n",
    "import sklearn\n",
    "from sklearn.cluster import KMeans\n",
    "from sklearn import preprocessing\n"
   ]
  },
  {
   "cell_type": "code",
   "execution_count": 44,
   "metadata": {},
   "outputs": [
    {
     "name": "stdout",
     "output_type": "stream",
     "text": [
      "              Team                        category  general_league_position  \\\n",
      "0  Manchester City                Champions League                        1   \n",
      "1        Liverpool                Champions League                        2   \n",
      "2          Chelsea  Champions League Qualification                        3   \n",
      "3        Tottenham  Champions League Qualification                        4   \n",
      "4          Arsenal                   Europa League                        5   \n",
      "\n",
      "   finance _live_games_televised  finance _tv_revenue  general_matches_played  \\\n",
      "0                             26            150986355                      38   \n",
      "1                             29            152425146                      38   \n",
      "2                             25            146030216                      38   \n",
      "3                             26            145230801                      38   \n",
      "4                             25            142193180                      38   \n",
      "\n",
      "   general_won  general_draw  general_lost  attack_scored  ...  defence_saves  \\\n",
      "0           32             2             4             95  ...             58   \n",
      "1           30             7             1             89  ...             76   \n",
      "2           21             9             8             63  ...             85   \n",
      "3           23             2            13             67  ...            121   \n",
      "4           21             7            10             73  ...            133   \n",
      "\n",
      "   defence_blocks  defence_interceptions  defence_tackles  \\\n",
      "0              63                    362              518   \n",
      "1              78                    314              610   \n",
      "2              73                    351              618   \n",
      "3             112                    326              626   \n",
      "4             118                    412              609   \n",
      "\n",
      "   defence_tackles_last_man  defence_clearances  defence_clearances_headed  \\\n",
      "0                         0                 543                        295   \n",
      "1                         2                 639                        317   \n",
      "2                         2                 593                        330   \n",
      "3                         3                 770                        411   \n",
      "4                         2                 762                        404   \n",
      "\n",
      "   defence_penalty_conceeded attack_posession  attack_pass_accuracy  \n",
      "0                          4             64.0                  89.0  \n",
      "1                          1             58.8                  84.4  \n",
      "2                          2             59.9                  87.6  \n",
      "3                          5             56.7                  83.2  \n",
      "4                          7             56.1                  83.3  \n",
      "\n",
      "[5 rows x 44 columns]\n"
     ]
    }
   ],
   "source": [
    "df = pd.read_csv('epl_2019.csv')\n",
    "print(df.head())"
   ]
  },
  {
   "cell_type": "code",
   "execution_count": 37,
   "metadata": {},
   "outputs": [],
   "source": [
    "# le = preprocessing.LabelEncoder()\n",
    "# df['Name'] = le.fit_transform(df['Name'])"
   ]
  },
  {
   "cell_type": "code",
   "execution_count": 45,
   "metadata": {},
   "outputs": [],
   "source": [
    "X = df['general_won']\n",
    "y = df['attack_scored']\n",
    "df = df[['general_won', 'attack_scored']]"
   ]
  },
  {
   "cell_type": "code",
   "execution_count": null,
   "metadata": {},
   "outputs": [],
   "source": []
  },
  {
   "cell_type": "code",
   "execution_count": 46,
   "metadata": {},
   "outputs": [
    {
     "data": {
      "text/plain": [
       "KMeans(algorithm='auto', copy_x=True, init='k-means++', max_iter=300,\n",
       "       n_clusters=5, n_init=10, n_jobs=None, precompute_distances='auto',\n",
       "       random_state=None, tol=0.0001, verbose=0)"
      ]
     },
     "execution_count": 46,
     "metadata": {},
     "output_type": "execute_result"
    }
   ],
   "source": [
    "clf = KMeans(n_clusters = 5)\n",
    "clf.fit(df)"
   ]
  },
  {
   "cell_type": "code",
   "execution_count": 47,
   "metadata": {},
   "outputs": [
    {
     "name": "stdout",
     "output_type": "stream",
     "text": [
      "[[12.         44.75      ]\n",
      " [21.         67.        ]\n",
      " [31.         92.        ]\n",
      " [ 7.25       31.25      ]\n",
      " [14.33333333 52.66666667]]\n"
     ]
    }
   ],
   "source": [
    "centroids = clf.cluster_centers_\n",
    "labels = clf.labels_\n",
    "print(centroids)"
   ]
  },
  {
   "cell_type": "code",
   "execution_count": 48,
   "metadata": {},
   "outputs": [
    {
     "data": {
      "image/png": "[encoded data removed]",
      "text/plain": [
       "<Figure size 432x288 with 1 Axes>"
      ]
     },
     "metadata": {},
     "output_type": "display_data"
    }
   ],
   "source": [
    "colors = np.array(['green', 'darkgrey', 'lightsalmon', 'black', 'powderblue'])\n",
    "\n",
    "\n",
    "plt.scatter(X, y , c = labels, s=50)\n",
    "plt.scatter(centroids[:, 0], centroids[:, 1], c='red', s=50)\n",
    "plt.show()"
   ]
  },
  {
   "cell_type": "code",
   "execution_count": 42,
   "metadata": {},
   "outputs": [],
   "source": [
    "# for i in range(len(X)):\n",
    "#     plt.plot(X[i])"
   ]
  }
 ],
 "metadata": {
  "kernelspec": {
   "display_name": "Python 3",
   "language": "python",
   "name": "python3"
  },
  "language_info": {
   "codemirror_mode": {
    "name": "ipython",
    "version": 3
   },
   "file_extension": ".py",
   "mimetype": "text/x-python",
   "name": "python",
   "nbconvert_exporter": "python",
   "pygments_lexer": "ipython3",
   "version": "3.7.6"
  }
 },
 "nbformat": 4,
 "nbformat_minor": 4
}
