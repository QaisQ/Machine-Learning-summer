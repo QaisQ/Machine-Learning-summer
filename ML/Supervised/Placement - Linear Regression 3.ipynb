{
 "cells": [
  {
   "cell_type": "code",
   "execution_count": 1,
   "metadata": {},
   "outputs": [],
   "source": [
    "import os\n",
    "import numpy as np\n",
    "import pandas as pd\n",
    "\n",
    "import sklearn\n",
    "from sklearn.model_selection import train_test_split\n",
    "from sklearn import linear_model\n",
    "from sklearn.utils import shuffle\n",
    "from sklearn import preprocessing"
   ]
  },
  {
   "cell_type": "code",
   "execution_count": 2,
   "metadata": {},
   "outputs": [],
   "source": [
    "# Reading Data frame\n",
    "df = pd.read_csv('Placement.csv')\n",
    "df = df.iloc[:, 1:14]\n"
   ]
  },
  {
   "cell_type": "code",
   "execution_count": 3,
   "metadata": {},
   "outputs": [],
   "source": [
    "le = preprocessing.LabelEncoder()\n",
    "for column in range(len(df.columns)):\n",
    "    df.iloc[:, column] = le.fit_transform(list(df.iloc[:, column]))\n"
   ]
  },
  {
   "cell_type": "code",
   "execution_count": 4,
   "metadata": {},
   "outputs": [
    {
     "name": "stdout",
     "output_type": "stream",
     "text": [
      "   gender  ssc_p  ssc_b  hsc_p  hsc_b  hsc_s  degree_p  degree_t  workex  \\\n",
      "0       1     46      1     93      1      1        14         2       0   \n",
      "1       1     82      0     79      1      2        74         2       1   \n",
      "2       1     42      0     51      0      0        27         0       0   \n",
      "3       1     22      0     14      0      2         3         2       0   \n",
      "4       1     98      0     70      0      1        65         0       0   \n",
      "\n",
      "   etest_p  specialisation  mba_p  status  \n",
      "0        9               1     64       1  \n",
      "1       74               0    153       1  \n",
      "2       55               0     50       1  \n",
      "3       37               1     72       0  \n",
      "4       96               0     28       1  \n",
      "[[ 46   1  93 ...   1  64   1]\n",
      " [ 82   0  79 ...   0 153   1]\n",
      " [ 42   0  51 ...   0  50   1]\n",
      " ...\n",
      " [ 46   1  49 ...   0 179   1]\n",
      " [ 64   1  45 ...   1  81   1]\n",
      " [ 36   0  21 ...   1  80   0]]\n",
      "[1 1 1 0 1 0 0 1 1 0 1 1 0 1 0 1 1 0 0 1 1 1 1 1 1 0 1 1 1 0 1 0 1 1 0 1 0\n",
      " 1 1 1 1 0 0 1 1 0 0 1 1 0 1 0 0 1 1 1 1 1 1 1 1 1 1 0 1 0 1 1 0 1 1 1 1 1\n",
      " 1 0 1 1 1 0 1 1 0 1 1 1 1 0 1 1 1 0 1 0 1 1 1 0 1 0 0 1 1 1 1 0 0 1 1 0 1\n",
      " 0 1 1 1 1 1 1 1 1 0 1 1 1 1 1 1 1 1 1 0 1 1 1 1 1 0 1 1 1 1 0 1 1 0 1 1 1\n",
      " 1 0 1 1 1 1 1 0 1 1 0 0 1 0 1 1 1 0 1 0 0 0 0 1 1 0 1 0 1 1 1 0 1 0 0 1 0\n",
      " 1 0 1 0 0 0 1 1 1 0 1 1 1 0 1 1 0 1 1 1 1 0 1 0 1 1 1 1 1 0]\n"
     ]
    }
   ],
   "source": [
    "predict = df['status']\n",
    "print(df.head(5))\n",
    "x = np.array(df.iloc[:,1:13])\n",
    "y = np.array(predict)\n",
    "print(x)\n",
    "print(y)"
   ]
  },
  {
   "cell_type": "code",
   "execution_count": 5,
   "metadata": {},
   "outputs": [],
   "source": [
    "train_x, test_x, train_y, test_y = train_test_split(x, y, test_size=0.2, random_state = 42)\n",
    "\n"
   ]
  },
  {
   "cell_type": "code",
   "execution_count": 6,
   "metadata": {},
   "outputs": [
    {
     "name": "stdout",
     "output_type": "stream",
     "text": [
      "1.0\n"
     ]
    }
   ],
   "source": [
    "linear = linear_model.LinearRegression()\n",
    "\n",
    "linear.fit(train_x, train_y)\n",
    "acc = linear.score(test_x, test_y)\n",
    "print(acc)"
   ]
  },
  {
   "cell_type": "code",
   "execution_count": 7,
   "metadata": {},
   "outputs": [
    {
     "name": "stdout",
     "output_type": "stream",
     "text": [
      "Coefficient: \n",
      " [ 2.40593635e-17 -1.00660574e-15  4.62408057e-17  1.74857347e-15\n",
      " -1.37378332e-15 -1.85036146e-17  2.53747947e-16  4.39865399e-16\n",
      " -1.75144552e-17  2.58561741e-17 -1.25431978e-17  1.00000000e+00]\n",
      "Intercept: \n",
      " 4.440892098500626e-16\n"
     ]
    }
   ],
   "source": [
    "print('Coefficient: \\n', linear.coef_)\n",
    "print('Intercept: \\n', linear.intercept_)"
   ]
  },
  {
   "cell_type": "code",
   "execution_count": 8,
   "metadata": {},
   "outputs": [
    {
     "name": "stdout",
     "output_type": "stream",
     "text": [
      "0.9999999999999999 [51  1 24  1  1 36  0  0 77  0  9  1] 1\n",
      "0.9999999999999998 [ 46   1  49   1   1  64   0   1  25   0 179   1] 1\n",
      "0.999999999999998 [ 89   1  37   1   2  64   2   1  95   0 191   1] 1\n",
      "1.0000000000000016 [26  0 24  1  1  8  0  0  9  1 51  1] 1\n",
      "1.0000000000000007 [ 42   0  73   0   1  48   0   1  48   0 134   1] 1\n",
      "-1.9819318832282242e-15 [10  1 16  1  2 20  2  0 27  1 87  0] 0\n",
      "-1.2165888721739858e-15 [ 7  0 13  0  1 14  0  1 27  1 63  0] 0\n",
      "1.0000000000000024 [41  0 85  1  1 58  0  0 72  0 76  1] 1\n",
      "1.0000000000000004 [ 64   1  66   1   1  64   0   1  63   0 165   1] 1\n",
      "1.000000000000003 [74  0 55  0  1 15  0  1 22  0 16  1] 1\n",
      "-5.556625364632766e-16 [ 46   1  35   1   2  27   2   0  27   0 100   0] 0\n",
      "1.0000000000000016 [40  0 69  0  1 64  0  0  3  1 37  1] 1\n",
      "-9.75501257795906e-16 [ 12   0  37   0   1  20   0   0   9   0 121   0] 0\n",
      "1.6721880265573507e-15 [25  0 55  0  1 20  0  0  7  0  4  0] 0\n",
      "1.0000000000000029 [86  1 80  1  1 42  0  0 42  0 92  1] 1\n",
      "-1.7592855125262216e-15 [37  1 32  1  2 36  2  0 76  1 88  0] 0\n",
      "1.0000000000000027 [ 83   1  82   1   1  60   0   1  33   0 150   1] 1\n",
      "-7.20995892863318e-16 [ 37   0  45   0   1  27   0   0  39   1 128   0] 0\n",
      "0.9999999999999974 [  8   1  23   1   2  36   2   1  72   0 110   1] 1\n",
      "1.0000000000000016 [90  1 71  1  2 38  0  0 43  1 59  1] 1\n",
      "0.9999999999999984 [101   0  63   0   2  78   1   0  66   1 187   1] 1\n",
      "1.000000000000001 [97  0 24  1  2 66  2  1 27  0 95  1] 1\n",
      "-2.8119952610545986e-15 [ 51   0  32   0   2  38   2   0  55   1 166   0] 0\n",
      "-3.1879587325188053e-15 [ 13   1  17   0   1   1   0   1  58   0 140   0] 0\n",
      "1.0000000000000013 [51  0 35  1  2 36  0  1  9  1 53  1] 1\n",
      "0.9999999999999999 [102   1  44   1   2  57   2   0  48   1 124   1] 1\n",
      "2.1696686809086966e-16 [ 16   0  77   1   1  49   0   0  94   0 159   0] 0\n",
      "0.9999999999999999 [ 37   0  46   0   1  37   0   1  27   0 112   1] 1\n",
      "-1.8147906501997273e-15 [ 70   0  37   0   2  60   2   0  22   1 155   0] 0\n",
      "0.9999999999999992 [59  0 22  0  2 14  2  1 14  0 96  1] 1\n",
      "1.0000000000000009 [33  0 84  0  1 48  0  0 69  0 55  1] 1\n",
      "1.0000000000000007 [31  0 47  1  2 36  0  0 46  1  7  1] 1\n",
      "1.0000000000000009 [25  1 28  1  1 20  0  0 22  1 15  1] 1\n",
      "0.9999999999999961 [46  1 28  0  2 60  0  0 48  0 93  1] 1\n",
      "0.9999999999999999 [46  0 59  0  2 31  1  1 34  1 94  1] 1\n",
      "0.9999999999999988 [ 84   0  68   0   2  77   2   1  65   1 203   1] 1\n",
      "-1.3554496407975412e-15 [ 26   0  32   1   1  75   0   0  52   1 160   0] 0\n",
      "0.999999999999999 [ 60   0  19   1   2  48   0   0  12   1 146   1] 1\n",
      "0.9999999999999987 [ 70   0  82   0   2  78   2   1  97   1 182   1] 1\n",
      "1.0000000000000013 [51  0 66  0  1 36  0  0 45  0 45  1] 1\n",
      "0.9999999999999988 [ 70   0  55   0   2  70   0   1  37   0 133   1] 1\n",
      "1.0000000000000009 [42  0 76  0  1 48  0  0 27  1 99  1] 1\n",
      "0.9999999999999998 [ 74   1  73   1   2  64   2   0  63   0 161   1] 1\n"
     ]
    }
   ],
   "source": [
    "predictions = linear.predict(test_x)\n",
    "\n",
    "for x in range(len(predictions)):\n",
    "    print(predictions[x], test_x[x], test_y[x])\n",
    "\n",
    "    \n",
    "#test_y"
   ]
  },
  {
   "cell_type": "code",
   "execution_count": 9,
   "metadata": {},
   "outputs": [],
   "source": [
    "#predictions[0:10]"
   ]
  },
  {
   "cell_type": "code",
   "execution_count": 10,
   "metadata": {},
   "outputs": [
    {
     "data": {
      "text/plain": [
       "2.7304170004218554e-30"
      ]
     },
     "execution_count": 10,
     "metadata": {},
     "output_type": "execute_result"
    }
   ],
   "source": [
    "## Mean square error\n",
    "np.mean((predictions-test_y)**2)"
   ]
  }
 ],
 "metadata": {
  "kernelspec": {
   "display_name": "Python 3",
   "language": "python",
   "name": "python3"
  },
  "language_info": {
   "codemirror_mode": {
    "name": "ipython",
    "version": 3
   },
   "file_extension": ".py",
   "mimetype": "text/x-python",
   "name": "python",
   "nbconvert_exporter": "python",
   "pygments_lexer": "ipython3",
   "version": "3.7.6"
  }
 },
 "nbformat": 4,
 "nbformat_minor": 4
}
