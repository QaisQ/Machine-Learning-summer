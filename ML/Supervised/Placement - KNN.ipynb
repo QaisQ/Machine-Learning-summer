{
 "cells": [
  {
   "cell_type": "code",
   "execution_count": 48,
   "metadata": {},
   "outputs": [],
   "source": [
    "import os\n",
    "import numpy as np\n",
    "import pandas as pd\n",
    "\n",
    "import sklearn\n",
    "from sklearn.model_selection import train_test_split\n",
    "from sklearn import neighbors\n",
    "from sklearn import preprocessing"
   ]
  },
  {
   "cell_type": "code",
   "execution_count": 49,
   "metadata": {},
   "outputs": [],
   "source": [
    "# Reading Data frame\n",
    "df = pd.read_csv('Placement.csv')\n",
    "df = df.iloc[:, 1:14]\n"
   ]
  },
  {
   "cell_type": "code",
   "execution_count": 50,
   "metadata": {},
   "outputs": [],
   "source": [
    "le = preprocessing.LabelEncoder()\n",
    "for column in range(len(df.columns)):\n",
    "    df.iloc[:, column] = le.fit_transform(list(df.iloc[:, column]))\n",
    "\n"
   ]
  },
  {
   "cell_type": "code",
   "execution_count": 51,
   "metadata": {},
   "outputs": [
    {
     "name": "stdout",
     "output_type": "stream",
     "text": [
      "   gender  ssc_p  ssc_b  hsc_p  hsc_b  hsc_s  degree_p  degree_t  workex  \\\n",
      "0       1     46      1     93      1      1        14         2       0   \n",
      "1       1     82      0     79      1      2        74         2       1   \n",
      "2       1     42      0     51      0      0        27         0       0   \n",
      "3       1     22      0     14      0      2         3         2       0   \n",
      "4       1     98      0     70      0      1        65         0       0   \n",
      "\n",
      "   etest_p  specialisation  mba_p  status  \n",
      "0        9               1     64       1  \n",
      "1       74               0    153       1  \n",
      "2       55               0     50       1  \n",
      "3       37               1     72       0  \n",
      "4       96               0     28       1  \n",
      "215\n",
      "[1 1 1 0 1 0 0 1 1 0 1 1 0 1 0 1 1 0 0 1 1 1 1 1 1 0 1 1 1 0 1 0 1 1 0 1 0\n",
      " 1 1 1 1 0 0 1 1 0 0 1 1 0 1 0 0 1 1 1 1 1 1 1 1 1 1 0 1 0 1 1 0 1 1 1 1 1\n",
      " 1 0 1 1 1 0 1 1 0 1 1 1 1 0 1 1 1 0 1 0 1 1 1 0 1 0 0 1 1 1 1 0 0 1 1 0 1\n",
      " 0 1 1 1 1 1 1 1 1 0 1 1 1 1 1 1 1 1 1 0 1 1 1 1 1 0 1 1 1 1 0 1 1 0 1 1 1\n",
      " 1 0 1 1 1 1 1 0 1 1 0 0 1 0 1 1 1 0 1 0 0 0 0 1 1 0 1 0 1 1 1 0 1 0 0 1 0\n",
      " 1 0 1 0 0 0 1 1 1 0 1 1 1 0 1 1 0 1 1 1 1 0 1 0 1 1 1 1 1 0]\n"
     ]
    }
   ],
   "source": [
    "predict = df['status']\n",
    "print(df.head(5))\n",
    "x = np.array(df.iloc[:,1:13])\n",
    "y = np.array(predict)\n",
    "print(len(x))\n",
    "print(y)"
   ]
  },
  {
   "cell_type": "code",
   "execution_count": 52,
   "metadata": {},
   "outputs": [],
   "source": [
    "train_x, test_x, train_y, test_y = train_test_split(x, y, test_size=0.25, random_state = 42)\n",
    "\n"
   ]
  },
  {
   "cell_type": "code",
   "execution_count": 53,
   "metadata": {},
   "outputs": [
    {
     "data": {
      "text/plain": [
       "KNeighborsClassifier(algorithm='auto', leaf_size=30, metric='minkowski',\n",
       "                     metric_params=None, n_jobs=None, n_neighbors=15, p=2,\n",
       "                     weights='uniform')"
      ]
     },
     "execution_count": 53,
     "metadata": {},
     "output_type": "execute_result"
    }
   ],
   "source": [
    "# To choose K:\n",
    "    # It's better to make it an odd value\n",
    "    # You could take it around Sqrt(n), n: total number of data points\n",
    "K = 15\n",
    "knn = neighbors.KNeighborsClassifier(n_neighbors = K)\n",
    "knn.fit(train_x, train_y)\n",
    "\n"
   ]
  },
  {
   "cell_type": "code",
   "execution_count": 54,
   "metadata": {},
   "outputs": [
    {
     "name": "stdout",
     "output_type": "stream",
     "text": [
      "0.8148148148148148\n"
     ]
    }
   ],
   "source": [
    "acc = knn.score(test_x, test_y)\n",
    "print(acc)"
   ]
  },
  {
   "cell_type": "code",
   "execution_count": 55,
   "metadata": {},
   "outputs": [
    {
     "name": "stdout",
     "output_type": "stream",
     "text": [
      "1 [51  1 24  1  1 36  0  0 77  0  9  1] 1\n",
      "1 [ 46   1  49   1   1  64   0   1  25   0 179   1] 1\n",
      "1 [ 89   1  37   1   2  64   2   1  95   0 191   1] 1\n",
      "0 [26  0 24  1  1  8  0  0  9  1 51  1] 1\n",
      "1 [ 42   0  73   0   1  48   0   1  48   0 134   1] 1\n",
      "0 [10  1 16  1  2 20  2  0 27  1 87  0] 0\n",
      "0 [ 7  0 13  0  1 14  0  1 27  1 63  0] 0\n",
      "1 [41  0 85  1  1 58  0  0 72  0 76  1] 1\n",
      "1 [ 64   1  66   1   1  64   0   1  63   0 165   1] 1\n",
      "1 [74  0 55  0  1 15  0  1 22  0 16  1] 1\n",
      "1 [ 46   1  35   1   2  27   2   0  27   0 100   0] 0\n",
      "1 [40  0 69  0  1 64  0  0  3  1 37  1] 1\n",
      "0 [ 12   0  37   0   1  20   0   0   9   0 121   0] 0\n",
      "1 [25  0 55  0  1 20  0  0  7  0  4  0] 0\n",
      "1 [86  1 80  1  1 42  0  0 42  0 92  1] 1\n",
      "0 [37  1 32  1  2 36  2  0 76  1 88  0] 0\n",
      "1 [ 83   1  82   1   1  60   0   1  33   0 150   1] 1\n",
      "1 [ 37   0  45   0   1  27   0   0  39   1 128   0] 0\n",
      "0 [  8   1  23   1   2  36   2   1  72   0 110   1] 1\n",
      "1 [90  1 71  1  2 38  0  0 43  1 59  1] 1\n",
      "1 [101   0  63   0   2  78   1   0  66   1 187   1] 1\n",
      "1 [97  0 24  1  2 66  2  1 27  0 95  1] 1\n",
      "1 [ 51   0  32   0   2  38   2   0  55   1 166   0] 0\n",
      "0 [ 13   1  17   0   1   1   0   1  58   0 140   0] 0\n",
      "1 [51  0 35  1  2 36  0  1  9  1 53  1] 1\n",
      "1 [102   1  44   1   2  57   2   0  48   1 124   1] 1\n",
      "1 [ 16   0  77   1   1  49   0   0  94   0 159   0] 0\n",
      "1 [ 37   0  46   0   1  37   0   1  27   0 112   1] 1\n",
      "1 [ 70   0  37   0   2  60   2   0  22   1 155   0] 0\n",
      "1 [59  0 22  0  2 14  2  1 14  0 96  1] 1\n",
      "1 [33  0 84  0  1 48  0  0 69  0 55  1] 1\n",
      "1 [31  0 47  1  2 36  0  0 46  1  7  1] 1\n",
      "1 [25  1 28  1  1 20  0  0 22  1 15  1] 1\n",
      "1 [46  1 28  0  2 60  0  0 48  0 93  1] 1\n",
      "1 [46  0 59  0  2 31  1  1 34  1 94  1] 1\n",
      "1 [ 84   0  68   0   2  77   2   1  65   1 203   1] 1\n",
      "1 [ 26   0  32   1   1  75   0   0  52   1 160   0] 0\n",
      "1 [ 60   0  19   1   2  48   0   0  12   1 146   1] 1\n",
      "1 [ 70   0  82   0   2  78   2   1  97   1 182   1] 1\n",
      "1 [51  0 66  0  1 36  0  0 45  0 45  1] 1\n",
      "1 [ 70   0  55   0   2  70   0   1  37   0 133   1] 1\n",
      "1 [42  0 76  0  1 48  0  0 27  1 99  1] 1\n",
      "1 [ 74   1  73   1   2  64   2   0  63   0 161   1] 1\n",
      "0 [12  0 32  0  1  5  0  0 48  1 26  0] 0\n",
      "1 [ 56   0  35   1   2  53   2   1   9   0 102   1] 1\n",
      "1 [ 61   0  78   1   1  36   0   1  92   0 104   1] 1\n",
      "1 [46  1 35  0  1 60  0  0 14  1 83  1] 1\n",
      "1 [ 85   1  84   1   1  76   0   0  83   0 199   1] 1\n",
      "1 [36  1 35  1  1 27  0  0 38  0 41  1] 1\n",
      "1 [ 65   0  88   1   1  73   0   1  56   0 151   1] 1\n",
      "1 [ 69   1  26   0   2  86   2   0  99   0 139   1] 1\n",
      "1 [61  1 21  1  2 38  0  0  5  1 39  1] 1\n",
      "1 [ 71   1  96   1   2  80   2   0  98   0 198   1] 1\n",
      "1 [ 38   0  79   1   1  67   0   0  63   0 200   0] 0\n"
     ]
    }
   ],
   "source": [
    "predictions = knn.predict(test_x)\n",
    "for x in range(len(predictions)):\n",
    "    print(predictions[x], test_x[x], test_y[x])"
   ]
  },
  {
   "cell_type": "code",
   "execution_count": 56,
   "metadata": {},
   "outputs": [
    {
     "data": {
      "text/plain": [
       "0.18518518518518517"
      ]
     },
     "execution_count": 56,
     "metadata": {},
     "output_type": "execute_result"
    }
   ],
   "source": [
    "## Mean square error\n",
    "np.mean((predictions-test_y)**2)"
   ]
  },
  {
   "cell_type": "code",
   "execution_count": 57,
   "metadata": {},
   "outputs": [
    {
     "name": "stdout",
     "output_type": "stream",
     "text": [
      "[1]\n"
     ]
    }
   ],
   "source": [
    "example_person = np.array([80,0,30,1,0,45,0,1,64,1,11,0])\n",
    "example_person = example_person.reshape(1, -1)\n",
    "prediction1 = knn.predict(example_person)\n",
    "print(prediction1)\n"
   ]
  },
  {
   "cell_type": "code",
   "execution_count": 58,
   "metadata": {},
   "outputs": [
    {
     "name": "stdout",
     "output_type": "stream",
     "text": [
      "[1 1]\n"
     ]
    }
   ],
   "source": [
    "example_people = np.array([[80,0,30,1,0,45,0,1,64,1,11,0], [90,1,50,1,1,32,0,0,44,1,91,0]])\n",
    "example_people = example_people.reshape(len(example_people), -1)\n",
    "prediction2 = knn.predict(example_people)\n",
    "print(prediction2)\n"
   ]
  }
 ],
 "metadata": {
  "kernelspec": {
   "display_name": "Python 3",
   "language": "python",
   "name": "python3"
  },
  "language_info": {
   "codemirror_mode": {
    "name": "ipython",
    "version": 3
   },
   "file_extension": ".py",
   "mimetype": "text/x-python",
   "name": "python",
   "nbconvert_exporter": "python",
   "pygments_lexer": "ipython3",
   "version": "3.7.6"
  }
 },
 "nbformat": 4,
 "nbformat_minor": 4
}
